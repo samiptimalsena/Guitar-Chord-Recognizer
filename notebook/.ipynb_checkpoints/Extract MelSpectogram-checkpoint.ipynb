{
 "cells": [
  {
   "cell_type": "code",
   "execution_count": 82,
   "metadata": {},
   "outputs": [],
   "source": [
    "import numpy as np\n",
    "import pandas as pd\n",
    "import librosa\n",
    "import librosa.display\n",
    "from glob import glob\n",
    "import os\n",
    "from tqdm import tqdm_pandas"
   ]
  },
  {
   "cell_type": "code",
   "execution_count": 6,
   "metadata": {},
   "outputs": [
    {
     "data": {
      "text/plain": [
       "['c', 'dm', 'bm', 'g', 'em', 'a', 'am', 'd', 'f', 'e']"
      ]
     },
     "execution_count": 6,
     "metadata": {},
     "output_type": "execute_result"
    }
   ],
   "source": [
    "BASE_DIR = './Guitar_Only/'\n",
    "chord_names = os.listdir(BASE_DIR)\n",
    "chord_names"
   ]
  },
  {
   "cell_type": "code",
   "execution_count": 31,
   "metadata": {},
   "outputs": [],
   "source": [
    "audio_files_path = list()\n",
    "chord_names_list = list()\n",
    "\n",
    "for chord_name in chord_names:\n",
    "    path = BASE_DIR + chord_name +'/*'\n",
    "    audio_files = glob(path)\n",
    "    audio_files_path = audio_files_path + audio_files\n",
    "    chord_names_list = chord_names_list + ([chord_name]*len(audio_files))\n",
    "\n",
    "df = pd.DataFrame()\n",
    "df['chords'] = chord_names_list\n",
    "df['path'] = audio_files_path"
   ]
  },
  {
   "cell_type": "code",
   "execution_count": 32,
   "metadata": {},
   "outputs": [
    {
     "data": {
      "text/html": [
       "<div>\n",
       "<style scoped>\n",
       "    .dataframe tbody tr th:only-of-type {\n",
       "        vertical-align: middle;\n",
       "    }\n",
       "\n",
       "    .dataframe tbody tr th {\n",
       "        vertical-align: top;\n",
       "    }\n",
       "\n",
       "    .dataframe thead th {\n",
       "        text-align: right;\n",
       "    }\n",
       "</style>\n",
       "<table border=\"1\" class=\"dataframe\">\n",
       "  <thead>\n",
       "    <tr style=\"text-align: right;\">\n",
       "      <th></th>\n",
       "      <th>chords</th>\n",
       "      <th>path</th>\n",
       "    </tr>\n",
       "  </thead>\n",
       "  <tbody>\n",
       "    <tr>\n",
       "      <th>0</th>\n",
       "      <td>c</td>\n",
       "      <td>./Guitar_Only/c/c101.wav</td>\n",
       "    </tr>\n",
       "    <tr>\n",
       "      <th>1</th>\n",
       "      <td>c</td>\n",
       "      <td>./Guitar_Only/c/c7.wav</td>\n",
       "    </tr>\n",
       "    <tr>\n",
       "      <th>2</th>\n",
       "      <td>c</td>\n",
       "      <td>./Guitar_Only/c/c132.wav</td>\n",
       "    </tr>\n",
       "    <tr>\n",
       "      <th>3</th>\n",
       "      <td>c</td>\n",
       "      <td>./Guitar_Only/c/c172.wav</td>\n",
       "    </tr>\n",
       "    <tr>\n",
       "      <th>4</th>\n",
       "      <td>c</td>\n",
       "      <td>./Guitar_Only/c/c158.wav</td>\n",
       "    </tr>\n",
       "    <tr>\n",
       "      <th>...</th>\n",
       "      <td>...</td>\n",
       "      <td>...</td>\n",
       "    </tr>\n",
       "    <tr>\n",
       "      <th>1995</th>\n",
       "      <td>e</td>\n",
       "      <td>./Guitar_Only/e/e106.wav</td>\n",
       "    </tr>\n",
       "    <tr>\n",
       "      <th>1996</th>\n",
       "      <td>e</td>\n",
       "      <td>./Guitar_Only/e/e58.wav</td>\n",
       "    </tr>\n",
       "    <tr>\n",
       "      <th>1997</th>\n",
       "      <td>e</td>\n",
       "      <td>./Guitar_Only/e/e149.wav</td>\n",
       "    </tr>\n",
       "    <tr>\n",
       "      <th>1998</th>\n",
       "      <td>e</td>\n",
       "      <td>./Guitar_Only/e/e157.wav</td>\n",
       "    </tr>\n",
       "    <tr>\n",
       "      <th>1999</th>\n",
       "      <td>e</td>\n",
       "      <td>./Guitar_Only/e/e84.wav</td>\n",
       "    </tr>\n",
       "  </tbody>\n",
       "</table>\n",
       "<p>2000 rows × 2 columns</p>\n",
       "</div>"
      ],
      "text/plain": [
       "     chords                      path\n",
       "0         c  ./Guitar_Only/c/c101.wav\n",
       "1         c    ./Guitar_Only/c/c7.wav\n",
       "2         c  ./Guitar_Only/c/c132.wav\n",
       "3         c  ./Guitar_Only/c/c172.wav\n",
       "4         c  ./Guitar_Only/c/c158.wav\n",
       "...     ...                       ...\n",
       "1995      e  ./Guitar_Only/e/e106.wav\n",
       "1996      e   ./Guitar_Only/e/e58.wav\n",
       "1997      e  ./Guitar_Only/e/e149.wav\n",
       "1998      e  ./Guitar_Only/e/e157.wav\n",
       "1999      e   ./Guitar_Only/e/e84.wav\n",
       "\n",
       "[2000 rows x 2 columns]"
      ]
     },
     "execution_count": 32,
     "metadata": {},
     "output_type": "execute_result"
    }
   ],
   "source": [
    "df"
   ]
  },
  {
   "cell_type": "code",
   "execution_count": 130,
   "metadata": {},
   "outputs": [],
   "source": [
    "FRAME_SIZE = 2048\n",
    "HOP_LENGTH = 512\n",
    "N_MELS = 128\n",
    "\n",
    "def extract_melspectogram(path):\n",
    "    audio, sr = librosa.load(path, duration=1.5)\n",
    "    melspectogram = librosa.feature.melspectrogram(audio, sr, \n",
    "                                                   n_fft=FRAME_SIZE, \n",
    "                                                   hop_length=HOP_LENGTH,\n",
    "                                                   n_mels=N_MELS)\n",
    "    melspectogram = librosa.power_to_db(melspectogram)\n",
    "    return melspectogram\n",
    "    \n",
    "def plot_spectogram(df, idx):\n",
    "    plt.figure(figsize=(25, 10))\n",
    "    plt.title(df.loc[idx,'chords'])\n",
    "    librosa.display.specshow(df.loc[idx,'melspectogram'],\n",
    "                             sr=22050,\n",
    "                             hop_length=HOP_LENGTH,\n",
    "                             x_axis='time',\n",
    "                             y_axis='log')\n",
    "    plt.colorbar(format='%+2.f')"
   ]
  },
  {
   "cell_type": "code",
   "execution_count": 106,
   "metadata": {},
   "outputs": [],
   "source": [
    "from tqdm.auto import tqdm\n",
    "tqdm.pandas()"
   ]
  },
  {
   "cell_type": "code",
   "execution_count": 107,
   "metadata": {},
   "outputs": [
    {
     "data": {
      "application/vnd.jupyter.widget-view+json": {
       "model_id": "eded561cec3445f691ac7325bdeb1f9a",
       "version_major": 2,
       "version_minor": 0
      },
      "text/plain": [
       "  0%|          | 0/2000 [00:00<?, ?it/s]"
      ]
     },
     "metadata": {},
     "output_type": "display_data"
    }
   ],
   "source": [
    "df['melspectogram'] = df['path'].progress_apply(lambda x:extract_melspectogram(x))"
   ]
  },
  {
   "cell_type": "code",
   "execution_count": 146,
   "metadata": {},
   "outputs": [
    {
     "data": {
      "text/html": [
       "<div>\n",
       "<style scoped>\n",
       "    .dataframe tbody tr th:only-of-type {\n",
       "        vertical-align: middle;\n",
       "    }\n",
       "\n",
       "    .dataframe tbody tr th {\n",
       "        vertical-align: top;\n",
       "    }\n",
       "\n",
       "    .dataframe thead th {\n",
       "        text-align: right;\n",
       "    }\n",
       "</style>\n",
       "<table border=\"1\" class=\"dataframe\">\n",
       "  <thead>\n",
       "    <tr style=\"text-align: right;\">\n",
       "      <th></th>\n",
       "      <th>chords</th>\n",
       "      <th>path</th>\n",
       "      <th>melspectogram</th>\n",
       "    </tr>\n",
       "  </thead>\n",
       "  <tbody>\n",
       "    <tr>\n",
       "      <th>0</th>\n",
       "      <td>c</td>\n",
       "      <td>./Guitar_Only/c/c101.wav</td>\n",
       "      <td>[[-24.261114, -22.469131, -21.94396, -22.46868...</td>\n",
       "    </tr>\n",
       "    <tr>\n",
       "      <th>1</th>\n",
       "      <td>c</td>\n",
       "      <td>./Guitar_Only/c/c7.wav</td>\n",
       "      <td>[[-41.640045, -32.103657, -31.946598, -38.2757...</td>\n",
       "    </tr>\n",
       "    <tr>\n",
       "      <th>2</th>\n",
       "      <td>c</td>\n",
       "      <td>./Guitar_Only/c/c132.wav</td>\n",
       "      <td>[[-21.589975, -21.356468, -20.752502, -19.4683...</td>\n",
       "    </tr>\n",
       "    <tr>\n",
       "      <th>3</th>\n",
       "      <td>c</td>\n",
       "      <td>./Guitar_Only/c/c172.wav</td>\n",
       "      <td>[[-20.76375, -21.655474, -22.655888, -22.58608...</td>\n",
       "    </tr>\n",
       "    <tr>\n",
       "      <th>4</th>\n",
       "      <td>c</td>\n",
       "      <td>./Guitar_Only/c/c158.wav</td>\n",
       "      <td>[[2.4403708, -3.798201, -22.237926, -22.31823,...</td>\n",
       "    </tr>\n",
       "    <tr>\n",
       "      <th>...</th>\n",
       "      <td>...</td>\n",
       "      <td>...</td>\n",
       "      <td>...</td>\n",
       "    </tr>\n",
       "    <tr>\n",
       "      <th>1995</th>\n",
       "      <td>e</td>\n",
       "      <td>./Guitar_Only/e/e106.wav</td>\n",
       "      <td>[[-2.1667492, -6.6485567, -10.442896, -20.4153...</td>\n",
       "    </tr>\n",
       "    <tr>\n",
       "      <th>1996</th>\n",
       "      <td>e</td>\n",
       "      <td>./Guitar_Only/e/e58.wav</td>\n",
       "      <td>[[-48.91912, -39.279564, -36.134113, -34.0899,...</td>\n",
       "    </tr>\n",
       "    <tr>\n",
       "      <th>1997</th>\n",
       "      <td>e</td>\n",
       "      <td>./Guitar_Only/e/e149.wav</td>\n",
       "      <td>[[-22.498398, -22.39794, -22.714415, -23.17169...</td>\n",
       "    </tr>\n",
       "    <tr>\n",
       "      <th>1998</th>\n",
       "      <td>e</td>\n",
       "      <td>./Guitar_Only/e/e157.wav</td>\n",
       "      <td>[[-12.368898, -18.078148, -21.062775, -20.8251...</td>\n",
       "    </tr>\n",
       "    <tr>\n",
       "      <th>1999</th>\n",
       "      <td>e</td>\n",
       "      <td>./Guitar_Only/e/e84.wav</td>\n",
       "      <td>[[-39.241608, -37.466595, -35.938602, -36.0087...</td>\n",
       "    </tr>\n",
       "  </tbody>\n",
       "</table>\n",
       "<p>2000 rows × 3 columns</p>\n",
       "</div>"
      ],
      "text/plain": [
       "     chords                      path  \\\n",
       "0         c  ./Guitar_Only/c/c101.wav   \n",
       "1         c    ./Guitar_Only/c/c7.wav   \n",
       "2         c  ./Guitar_Only/c/c132.wav   \n",
       "3         c  ./Guitar_Only/c/c172.wav   \n",
       "4         c  ./Guitar_Only/c/c158.wav   \n",
       "...     ...                       ...   \n",
       "1995      e  ./Guitar_Only/e/e106.wav   \n",
       "1996      e   ./Guitar_Only/e/e58.wav   \n",
       "1997      e  ./Guitar_Only/e/e149.wav   \n",
       "1998      e  ./Guitar_Only/e/e157.wav   \n",
       "1999      e   ./Guitar_Only/e/e84.wav   \n",
       "\n",
       "                                          melspectogram  \n",
       "0     [[-24.261114, -22.469131, -21.94396, -22.46868...  \n",
       "1     [[-41.640045, -32.103657, -31.946598, -38.2757...  \n",
       "2     [[-21.589975, -21.356468, -20.752502, -19.4683...  \n",
       "3     [[-20.76375, -21.655474, -22.655888, -22.58608...  \n",
       "4     [[2.4403708, -3.798201, -22.237926, -22.31823,...  \n",
       "...                                                 ...  \n",
       "1995  [[-2.1667492, -6.6485567, -10.442896, -20.4153...  \n",
       "1996  [[-48.91912, -39.279564, -36.134113, -34.0899,...  \n",
       "1997  [[-22.498398, -22.39794, -22.714415, -23.17169...  \n",
       "1998  [[-12.368898, -18.078148, -21.062775, -20.8251...  \n",
       "1999  [[-39.241608, -37.466595, -35.938602, -36.0087...  \n",
       "\n",
       "[2000 rows x 3 columns]"
      ]
     },
     "execution_count": 146,
     "metadata": {},
     "output_type": "execute_result"
    }
   ],
   "source": [
    "df"
   ]
  },
  {
   "cell_type": "code",
   "execution_count": 138,
   "metadata": {},
   "outputs": [
    {
     "data": {
      "application/javascript": [
       "\n",
       "        if (window._pyforest_update_imports_cell) { window._pyforest_update_imports_cell('import matplotlib.pyplot as plt'); }\n",
       "    "
      ],
      "text/plain": [
       "<IPython.core.display.Javascript object>"
      ]
     },
     "metadata": {},
     "output_type": "display_data"
    },
    {
     "data": {
      "application/javascript": [
       "\n",
       "        if (window._pyforest_update_imports_cell) { window._pyforest_update_imports_cell('import matplotlib.pyplot as plt'); }\n",
       "    "
      ],
      "text/plain": [
       "<IPython.core.display.Javascript object>"
      ]
     },
     "metadata": {},
     "output_type": "display_data"
    },
    {
     "data": {
      "application/javascript": [
       "\n",
       "        if (window._pyforest_update_imports_cell) { window._pyforest_update_imports_cell('import matplotlib.pyplot as plt'); }\n",
       "    "
      ],
      "text/plain": [
       "<IPython.core.display.Javascript object>"
      ]
     },
     "metadata": {},
     "output_type": "display_data"
    },
    {
     "data": {
      "image/png": "[encoded data removed]",
      "text/plain": [
       "<Figure size 1800x720 with 2 Axes>"
      ]
     },
     "metadata": {
      "needs_background": "light"
     },
     "output_type": "display_data"
    }
   ],
   "source": [
    "plot_spectogram(df, 199)"
   ]
  },
  {
   "cell_type": "code",
   "execution_count": 139,
   "metadata": {},
   "outputs": [
    {
     "data": {
      "application/javascript": [
       "\n",
       "        if (window._pyforest_update_imports_cell) { window._pyforest_update_imports_cell('import matplotlib.pyplot as plt'); }\n",
       "    "
      ],
      "text/plain": [
       "<IPython.core.display.Javascript object>"
      ]
     },
     "metadata": {},
     "output_type": "display_data"
    },
    {
     "data": {
      "application/javascript": [
       "\n",
       "        if (window._pyforest_update_imports_cell) { window._pyforest_update_imports_cell('import matplotlib.pyplot as plt'); }\n",
       "    "
      ],
      "text/plain": [
       "<IPython.core.display.Javascript object>"
      ]
     },
     "metadata": {},
     "output_type": "display_data"
    },
    {
     "data": {
      "application/javascript": [
       "\n",
       "        if (window._pyforest_update_imports_cell) { window._pyforest_update_imports_cell('import matplotlib.pyplot as plt'); }\n",
       "    "
      ],
      "text/plain": [
       "<IPython.core.display.Javascript object>"
      ]
     },
     "metadata": {},
     "output_type": "display_data"
    },
    {
     "data": {
      "image/png": "[encoded data removed]",
      "text/plain": [
       "<Figure size 1800x720 with 2 Axes>"
      ]
     },
     "metadata": {
      "needs_background": "light"
     },
     "output_type": "display_data"
    }
   ],
   "source": [
    "plot_spectogram(df, 200)"
   ]
  },
  {
   "cell_type": "code",
   "execution_count": 147,
   "metadata": {},
   "outputs": [],
   "source": [
    "df['mel_shape'] = df['melspectogram'].apply(lambda x : x.shape)"
   ]
  },
  {
   "cell_type": "code",
   "execution_count": 149,
   "metadata": {},
   "outputs": [
    {
     "data": {
      "text/plain": [
       "(128, 65)    1757\n",
       "(128, 64)      34\n",
       "(128, 62)      26\n",
       "(128, 63)      23\n",
       "(128, 60)      21\n",
       "(128, 58)      18\n",
       "(128, 61)      15\n",
       "(128, 55)      14\n",
       "(128, 59)      13\n",
       "(128, 57)      10\n",
       "(128, 53)      10\n",
       "(128, 56)      10\n",
       "(128, 54)       8\n",
       "(128, 48)       6\n",
       "(128, 52)       5\n",
       "(128, 50)       5\n",
       "(128, 46)       4\n",
       "(128, 42)       4\n",
       "(128, 45)       3\n",
       "(128, 47)       3\n",
       "(128, 51)       3\n",
       "(128, 43)       2\n",
       "(128, 37)       2\n",
       "(128, 39)       1\n",
       "(128, 25)       1\n",
       "(128, 40)       1\n",
       "(128, 44)       1\n",
       "Name: mel_shape, dtype: int64"
      ]
     },
     "execution_count": 149,
     "metadata": {},
     "output_type": "execute_result"
    }
   ],
   "source": [
    "df['mel_shape'].value_counts()"
   ]
  },
  {
   "cell_type": "markdown",
   "metadata": {},
   "source": [
    "## melspectogram has unequal shapes, so using only those sample which has max occurence"
   ]
  },
  {
   "cell_type": "code",
   "execution_count": 150,
   "metadata": {},
   "outputs": [],
   "source": [
    "df['mel_shape'] = df['mel_shape'].apply(lambda x : x if x == (128,65) else np.nan)"
   ]
  },
  {
   "cell_type": "code",
   "execution_count": 155,
   "metadata": {},
   "outputs": [
    {
     "data": {
      "text/plain": [
       "(2000, 4)"
      ]
     },
     "execution_count": 155,
     "metadata": {},
     "output_type": "execute_result"
    }
   ],
   "source": [
    "df.shape"
   ]
  },
  {
   "cell_type": "code",
   "execution_count": 156,
   "metadata": {},
   "outputs": [
    {
     "data": {
      "text/plain": [
       "(1757, 4)"
      ]
     },
     "execution_count": 156,
     "metadata": {},
     "output_type": "execute_result"
    }
   ],
   "source": [
    "df.dropna(inplace=True)\n",
    "df.shape"
   ]
  },
  {
   "cell_type": "code",
   "execution_count": 157,
   "metadata": {},
   "outputs": [
    {
     "data": {
      "text/html": [
       "<div>\n",
       "<style scoped>\n",
       "    .dataframe tbody tr th:only-of-type {\n",
       "        vertical-align: middle;\n",
       "    }\n",
       "\n",
       "    .dataframe tbody tr th {\n",
       "        vertical-align: top;\n",
       "    }\n",
       "\n",
       "    .dataframe thead th {\n",
       "        text-align: right;\n",
       "    }\n",
       "</style>\n",
       "<table border=\"1\" class=\"dataframe\">\n",
       "  <thead>\n",
       "    <tr style=\"text-align: right;\">\n",
       "      <th></th>\n",
       "      <th>chords</th>\n",
       "      <th>path</th>\n",
       "      <th>melspectogram</th>\n",
       "    </tr>\n",
       "  </thead>\n",
       "  <tbody>\n",
       "    <tr>\n",
       "      <th>0</th>\n",
       "      <td>c</td>\n",
       "      <td>./Guitar_Only/c/c101.wav</td>\n",
       "      <td>[[-24.261114, -22.469131, -21.94396, -22.46868...</td>\n",
       "    </tr>\n",
       "    <tr>\n",
       "      <th>1</th>\n",
       "      <td>c</td>\n",
       "      <td>./Guitar_Only/c/c7.wav</td>\n",
       "      <td>[[-41.640045, -32.103657, -31.946598, -38.2757...</td>\n",
       "    </tr>\n",
       "    <tr>\n",
       "      <th>2</th>\n",
       "      <td>c</td>\n",
       "      <td>./Guitar_Only/c/c132.wav</td>\n",
       "      <td>[[-21.589975, -21.356468, -20.752502, -19.4683...</td>\n",
       "    </tr>\n",
       "    <tr>\n",
       "      <th>3</th>\n",
       "      <td>c</td>\n",
       "      <td>./Guitar_Only/c/c172.wav</td>\n",
       "      <td>[[-20.76375, -21.655474, -22.655888, -22.58608...</td>\n",
       "    </tr>\n",
       "    <tr>\n",
       "      <th>4</th>\n",
       "      <td>c</td>\n",
       "      <td>./Guitar_Only/c/c158.wav</td>\n",
       "      <td>[[2.4403708, -3.798201, -22.237926, -22.31823,...</td>\n",
       "    </tr>\n",
       "  </tbody>\n",
       "</table>\n",
       "</div>"
      ],
      "text/plain": [
       "  chords                      path  \\\n",
       "0      c  ./Guitar_Only/c/c101.wav   \n",
       "1      c    ./Guitar_Only/c/c7.wav   \n",
       "2      c  ./Guitar_Only/c/c132.wav   \n",
       "3      c  ./Guitar_Only/c/c172.wav   \n",
       "4      c  ./Guitar_Only/c/c158.wav   \n",
       "\n",
       "                                       melspectogram  \n",
       "0  [[-24.261114, -22.469131, -21.94396, -22.46868...  \n",
       "1  [[-41.640045, -32.103657, -31.946598, -38.2757...  \n",
       "2  [[-21.589975, -21.356468, -20.752502, -19.4683...  \n",
       "3  [[-20.76375, -21.655474, -22.655888, -22.58608...  \n",
       "4  [[2.4403708, -3.798201, -22.237926, -22.31823,...  "
      ]
     },
     "execution_count": 157,
     "metadata": {},
     "output_type": "execute_result"
    }
   ],
   "source": [
    "df.drop('mel_shape', axis=1, inplace=True)\n",
    "df.head()"
   ]
  },
  {
   "cell_type": "code",
   "execution_count": 158,
   "metadata": {},
   "outputs": [],
   "source": [
    "df.to_csv('df_2.csv', index=False)"
   ]
  },
  {
   "cell_type": "markdown",
   "metadata": {},
   "source": [
    "## csv can't hold large ndarray, so df is also saved in .pkl format"
   ]
  },
  {
   "cell_type": "code",
   "execution_count": 168,
   "metadata": {},
   "outputs": [],
   "source": [
    "df.to_pickle('df_2.pkl')"
   ]
  },
  {
   "cell_type": "code",
   "execution_count": 175,
   "metadata": {},
   "outputs": [],
   "source": [
    "pd.to_pickle(df, 'df_3.pkl', protocol=4)"
   ]
  },
  {
   "cell_type": "code",
   "execution_count": 172,
   "metadata": {},
   "outputs": [
    {
     "data": {
      "text/html": [
       "<div>\n",
       "<style scoped>\n",
       "    .dataframe tbody tr th:only-of-type {\n",
       "        vertical-align: middle;\n",
       "    }\n",
       "\n",
       "    .dataframe tbody tr th {\n",
       "        vertical-align: top;\n",
       "    }\n",
       "\n",
       "    .dataframe thead th {\n",
       "        text-align: right;\n",
       "    }\n",
       "</style>\n",
       "<table border=\"1\" class=\"dataframe\">\n",
       "  <thead>\n",
       "    <tr style=\"text-align: right;\">\n",
       "      <th></th>\n",
       "      <th>chords</th>\n",
       "      <th>path</th>\n",
       "      <th>melspectogram</th>\n",
       "    </tr>\n",
       "  </thead>\n",
       "  <tbody>\n",
       "    <tr>\n",
       "      <th>0</th>\n",
       "      <td>c</td>\n",
       "      <td>./Guitar_Only/c/c101.wav</td>\n",
       "      <td>[[-24.261114, -22.469131, -21.94396, -22.46868...</td>\n",
       "    </tr>\n",
       "    <tr>\n",
       "      <th>1</th>\n",
       "      <td>c</td>\n",
       "      <td>./Guitar_Only/c/c7.wav</td>\n",
       "      <td>[[-41.640045, -32.103657, -31.946598, -38.2757...</td>\n",
       "    </tr>\n",
       "    <tr>\n",
       "      <th>2</th>\n",
       "      <td>c</td>\n",
       "      <td>./Guitar_Only/c/c132.wav</td>\n",
       "      <td>[[-21.589975, -21.356468, -20.752502, -19.4683...</td>\n",
       "    </tr>\n",
       "    <tr>\n",
       "      <th>3</th>\n",
       "      <td>c</td>\n",
       "      <td>./Guitar_Only/c/c172.wav</td>\n",
       "      <td>[[-20.76375, -21.655474, -22.655888, -22.58608...</td>\n",
       "    </tr>\n",
       "    <tr>\n",
       "      <th>4</th>\n",
       "      <td>c</td>\n",
       "      <td>./Guitar_Only/c/c158.wav</td>\n",
       "      <td>[[2.4403708, -3.798201, -22.237926, -22.31823,...</td>\n",
       "    </tr>\n",
       "    <tr>\n",
       "      <th>...</th>\n",
       "      <td>...</td>\n",
       "      <td>...</td>\n",
       "      <td>...</td>\n",
       "    </tr>\n",
       "    <tr>\n",
       "      <th>1995</th>\n",
       "      <td>e</td>\n",
       "      <td>./Guitar_Only/e/e106.wav</td>\n",
       "      <td>[[-2.1667492, -6.6485567, -10.442896, -20.4153...</td>\n",
       "    </tr>\n",
       "    <tr>\n",
       "      <th>1996</th>\n",
       "      <td>e</td>\n",
       "      <td>./Guitar_Only/e/e58.wav</td>\n",
       "      <td>[[-48.91912, -39.279564, -36.134113, -34.0899,...</td>\n",
       "    </tr>\n",
       "    <tr>\n",
       "      <th>1997</th>\n",
       "      <td>e</td>\n",
       "      <td>./Guitar_Only/e/e149.wav</td>\n",
       "      <td>[[-22.498398, -22.39794, -22.714415, -23.17169...</td>\n",
       "    </tr>\n",
       "    <tr>\n",
       "      <th>1998</th>\n",
       "      <td>e</td>\n",
       "      <td>./Guitar_Only/e/e157.wav</td>\n",
       "      <td>[[-12.368898, -18.078148, -21.062775, -20.8251...</td>\n",
       "    </tr>\n",
       "    <tr>\n",
       "      <th>1999</th>\n",
       "      <td>e</td>\n",
       "      <td>./Guitar_Only/e/e84.wav</td>\n",
       "      <td>[[-39.241608, -37.466595, -35.938602, -36.0087...</td>\n",
       "    </tr>\n",
       "  </tbody>\n",
       "</table>\n",
       "<p>1757 rows × 3 columns</p>\n",
       "</div>"
      ],
      "text/plain": [
       "     chords                      path  \\\n",
       "0         c  ./Guitar_Only/c/c101.wav   \n",
       "1         c    ./Guitar_Only/c/c7.wav   \n",
       "2         c  ./Guitar_Only/c/c132.wav   \n",
       "3         c  ./Guitar_Only/c/c172.wav   \n",
       "4         c  ./Guitar_Only/c/c158.wav   \n",
       "...     ...                       ...   \n",
       "1995      e  ./Guitar_Only/e/e106.wav   \n",
       "1996      e   ./Guitar_Only/e/e58.wav   \n",
       "1997      e  ./Guitar_Only/e/e149.wav   \n",
       "1998      e  ./Guitar_Only/e/e157.wav   \n",
       "1999      e   ./Guitar_Only/e/e84.wav   \n",
       "\n",
       "                                          melspectogram  \n",
       "0     [[-24.261114, -22.469131, -21.94396, -22.46868...  \n",
       "1     [[-41.640045, -32.103657, -31.946598, -38.2757...  \n",
       "2     [[-21.589975, -21.356468, -20.752502, -19.4683...  \n",
       "3     [[-20.76375, -21.655474, -22.655888, -22.58608...  \n",
       "4     [[2.4403708, -3.798201, -22.237926, -22.31823,...  \n",
       "...                                                 ...  \n",
       "1995  [[-2.1667492, -6.6485567, -10.442896, -20.4153...  \n",
       "1996  [[-48.91912, -39.279564, -36.134113, -34.0899,...  \n",
       "1997  [[-22.498398, -22.39794, -22.714415, -23.17169...  \n",
       "1998  [[-12.368898, -18.078148, -21.062775, -20.8251...  \n",
       "1999  [[-39.241608, -37.466595, -35.938602, -36.0087...  \n",
       "\n",
       "[1757 rows x 3 columns]"
      ]
     },
     "execution_count": 172,
     "metadata": {},
     "output_type": "execute_result"
    }
   ],
   "source": [
    "pd.read_pickle('df_3.pkl')"
   ]
  },
  {
   "cell_type": "code",
   "execution_count": 173,
   "metadata": {},
   "outputs": [
    {
     "data": {
      "text/plain": [
       "'1.2.2'"
      ]
     },
     "execution_count": 173,
     "metadata": {},
     "output_type": "execute_result"
    }
   ],
   "source": [
    "pd.__version__"
   ]
  },
  {
   "cell_type": "code",
   "execution_count": 174,
   "metadata": {},
   "outputs": [
    {
     "name": "stdout",
     "output_type": "stream",
     "text": [
      "Python 3.8.3\r\n"
     ]
    }
   ],
   "source": [
    "!python --version"
   ]
  },
  {
   "cell_type": "code",
   "execution_count": null,
   "metadata": {},
   "outputs": [],
   "source": []
  }
 ],
 "metadata": {
  "kernelspec": {
   "display_name": "Python 3",
   "language": "python",
   "name": "python3"
  },
  "language_info": {
   "codemirror_mode": {
    "name": "ipython",
    "version": 3
   },
   "file_extension": ".py",
   "mimetype": "text/x-python",
   "name": "python",
   "nbconvert_exporter": "python",
   "pygments_lexer": "ipython3",
   "version": "3.8.3"
  }
 },
 "nbformat": 4,
 "nbformat_minor": 4
}
