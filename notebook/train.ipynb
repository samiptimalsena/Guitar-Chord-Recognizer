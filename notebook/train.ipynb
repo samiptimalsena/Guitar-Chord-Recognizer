{
  "nbformat": 4,
  "nbformat_minor": 0,
  "metadata": {
    "colab": {
      "name": "train.ipynb",
      "provenance": []
    },
    "kernelspec": {
      "name": "python3",
      "display_name": "Python 3"
    },
    "accelerator": "GPU"
  },
  "cells": [
    {
      "cell_type": "code",
      "metadata": {
        "id": "--ETqfVjrJhj"
      },
      "source": [
        "import pandas as pd\n",
        "import numpy as np\n",
        "\n",
        "from sklearn.model_selection import train_test_split\n",
        "\n",
        "import torch\n",
        "import torch.nn as nn"
      ],
      "execution_count": 54,
      "outputs": []
    },
    {
      "cell_type": "code",
      "metadata": {
        "colab": {
          "base_uri": "https://localhost:8080/",
          "height": 204
        },
        "id": "l65u7FKtrj-h",
        "outputId": "fcf0810f-bbfe-4aef-b09d-29fa0c1c8ad2"
      },
      "source": [
        "df = pd.read_pickle('./df_3.pkl')\n",
        "df.head()"
      ],
      "execution_count": 2,
      "outputs": [
        {
          "output_type": "execute_result",
          "data": {
            "text/html": [
              "<div>\n",
              "<style scoped>\n",
              "    .dataframe tbody tr th:only-of-type {\n",
              "        vertical-align: middle;\n",
              "    }\n",
              "\n",
              "    .dataframe tbody tr th {\n",
              "        vertical-align: top;\n",
              "    }\n",
              "\n",
              "    .dataframe thead th {\n",
              "        text-align: right;\n",
              "    }\n",
              "</style>\n",
              "<table border=\"1\" class=\"dataframe\">\n",
              "  <thead>\n",
              "    <tr style=\"text-align: right;\">\n",
              "      <th></th>\n",
              "      <th>chords</th>\n",
              "      <th>path</th>\n",
              "      <th>melspectogram</th>\n",
              "    </tr>\n",
              "  </thead>\n",
              "  <tbody>\n",
              "    <tr>\n",
              "      <th>0</th>\n",
              "      <td>c</td>\n",
              "      <td>./Guitar_Only/c/c101.wav</td>\n",
              "      <td>[[-24.261114, -22.469131, -21.94396, -22.46868...</td>\n",
              "    </tr>\n",
              "    <tr>\n",
              "      <th>1</th>\n",
              "      <td>c</td>\n",
              "      <td>./Guitar_Only/c/c7.wav</td>\n",
              "      <td>[[-41.640045, -32.103657, -31.946598, -38.2757...</td>\n",
              "    </tr>\n",
              "    <tr>\n",
              "      <th>2</th>\n",
              "      <td>c</td>\n",
              "      <td>./Guitar_Only/c/c132.wav</td>\n",
              "      <td>[[-21.589975, -21.356468, -20.752502, -19.4683...</td>\n",
              "    </tr>\n",
              "    <tr>\n",
              "      <th>3</th>\n",
              "      <td>c</td>\n",
              "      <td>./Guitar_Only/c/c172.wav</td>\n",
              "      <td>[[-20.76375, -21.655474, -22.655888, -22.58608...</td>\n",
              "    </tr>\n",
              "    <tr>\n",
              "      <th>4</th>\n",
              "      <td>c</td>\n",
              "      <td>./Guitar_Only/c/c158.wav</td>\n",
              "      <td>[[2.4403708, -3.798201, -22.237926, -22.31823,...</td>\n",
              "    </tr>\n",
              "  </tbody>\n",
              "</table>\n",
              "</div>"
            ],
            "text/plain": [
              "  chords  ...                                      melspectogram\n",
              "0      c  ...  [[-24.261114, -22.469131, -21.94396, -22.46868...\n",
              "1      c  ...  [[-41.640045, -32.103657, -31.946598, -38.2757...\n",
              "2      c  ...  [[-21.589975, -21.356468, -20.752502, -19.4683...\n",
              "3      c  ...  [[-20.76375, -21.655474, -22.655888, -22.58608...\n",
              "4      c  ...  [[2.4403708, -3.798201, -22.237926, -22.31823,...\n",
              "\n",
              "[5 rows x 3 columns]"
            ]
          },
          "metadata": {
            "tags": []
          },
          "execution_count": 2
        }
      ]
    },
    {
      "cell_type": "code",
      "metadata": {
        "colab": {
          "base_uri": "https://localhost:8080/"
        },
        "id": "VTW6AaOCrmy_",
        "outputId": "06be8e5e-6acf-4bad-e090-15416ebf5c3c"
      },
      "source": [
        "df.shape"
      ],
      "execution_count": 3,
      "outputs": [
        {
          "output_type": "execute_result",
          "data": {
            "text/plain": [
              "(1757, 3)"
            ]
          },
          "metadata": {
            "tags": []
          },
          "execution_count": 3
        }
      ]
    },
    {
      "cell_type": "code",
      "metadata": {
        "id": "AKQ136QvrvXj"
      },
      "source": [
        "chords_mapping = {\n",
        "    'c':0,\n",
        "    'dm':1,\n",
        "    'bm':2,\n",
        "    'g':3,\n",
        "    'em':4,\n",
        "    'a':5,\n",
        "    'am':6,\n",
        "    'd':7,\n",
        "    'f':8,\n",
        "    'e':9\n",
        "}\n",
        "\n",
        "df['chords'] = df['chords'].map(chords_mapping)"
      ],
      "execution_count": 4,
      "outputs": []
    },
    {
      "cell_type": "code",
      "metadata": {
        "colab": {
          "base_uri": "https://localhost:8080/",
          "height": 204
        },
        "id": "nRaOwIoi4Dcf",
        "outputId": "72130348-5912-4e92-ba77-9d5f91913163"
      },
      "source": [
        "df.tail()"
      ],
      "execution_count": 5,
      "outputs": [
        {
          "output_type": "execute_result",
          "data": {
            "text/html": [
              "<div>\n",
              "<style scoped>\n",
              "    .dataframe tbody tr th:only-of-type {\n",
              "        vertical-align: middle;\n",
              "    }\n",
              "\n",
              "    .dataframe tbody tr th {\n",
              "        vertical-align: top;\n",
              "    }\n",
              "\n",
              "    .dataframe thead th {\n",
              "        text-align: right;\n",
              "    }\n",
              "</style>\n",
              "<table border=\"1\" class=\"dataframe\">\n",
              "  <thead>\n",
              "    <tr style=\"text-align: right;\">\n",
              "      <th></th>\n",
              "      <th>chords</th>\n",
              "      <th>path</th>\n",
              "      <th>melspectogram</th>\n",
              "    </tr>\n",
              "  </thead>\n",
              "  <tbody>\n",
              "    <tr>\n",
              "      <th>1995</th>\n",
              "      <td>9</td>\n",
              "      <td>./Guitar_Only/e/e106.wav</td>\n",
              "      <td>[[-2.1667492, -6.6485567, -10.442896, -20.4153...</td>\n",
              "    </tr>\n",
              "    <tr>\n",
              "      <th>1996</th>\n",
              "      <td>9</td>\n",
              "      <td>./Guitar_Only/e/e58.wav</td>\n",
              "      <td>[[-48.91912, -39.279564, -36.134113, -34.0899,...</td>\n",
              "    </tr>\n",
              "    <tr>\n",
              "      <th>1997</th>\n",
              "      <td>9</td>\n",
              "      <td>./Guitar_Only/e/e149.wav</td>\n",
              "      <td>[[-22.498398, -22.39794, -22.714415, -23.17169...</td>\n",
              "    </tr>\n",
              "    <tr>\n",
              "      <th>1998</th>\n",
              "      <td>9</td>\n",
              "      <td>./Guitar_Only/e/e157.wav</td>\n",
              "      <td>[[-12.368898, -18.078148, -21.062775, -20.8251...</td>\n",
              "    </tr>\n",
              "    <tr>\n",
              "      <th>1999</th>\n",
              "      <td>9</td>\n",
              "      <td>./Guitar_Only/e/e84.wav</td>\n",
              "      <td>[[-39.241608, -37.466595, -35.938602, -36.0087...</td>\n",
              "    </tr>\n",
              "  </tbody>\n",
              "</table>\n",
              "</div>"
            ],
            "text/plain": [
              "      chords  ...                                      melspectogram\n",
              "1995       9  ...  [[-2.1667492, -6.6485567, -10.442896, -20.4153...\n",
              "1996       9  ...  [[-48.91912, -39.279564, -36.134113, -34.0899,...\n",
              "1997       9  ...  [[-22.498398, -22.39794, -22.714415, -23.17169...\n",
              "1998       9  ...  [[-12.368898, -18.078148, -21.062775, -20.8251...\n",
              "1999       9  ...  [[-39.241608, -37.466595, -35.938602, -36.0087...\n",
              "\n",
              "[5 rows x 3 columns]"
            ]
          },
          "metadata": {
            "tags": []
          },
          "execution_count": 5
        }
      ]
    },
    {
      "cell_type": "code",
      "metadata": {
        "colab": {
          "base_uri": "https://localhost:8080/"
        },
        "id": "17bTdMeG5NBa",
        "outputId": "5bd8555b-56b1-4d48-9869-697a85f50473"
      },
      "source": [
        "df['melspectogram'][0].shape"
      ],
      "execution_count": 6,
      "outputs": [
        {
          "output_type": "execute_result",
          "data": {
            "text/plain": [
              "(128, 65)"
            ]
          },
          "metadata": {
            "tags": []
          },
          "execution_count": 6
        }
      ]
    },
    {
      "cell_type": "code",
      "metadata": {
        "id": "aSz8QqYV5SXO"
      },
      "source": [
        "df['melspectogram'] = df['melspectogram'].apply(lambda x:x.reshape(1,128,65))"
      ],
      "execution_count": 7,
      "outputs": []
    },
    {
      "cell_type": "code",
      "metadata": {
        "colab": {
          "base_uri": "https://localhost:8080/"
        },
        "id": "G83396lY5gCr",
        "outputId": "e60dc5e5-1965-497e-a079-2ae8e022a995"
      },
      "source": [
        "df['melspectogram'][0].shape"
      ],
      "execution_count": 8,
      "outputs": [
        {
          "output_type": "execute_result",
          "data": {
            "text/plain": [
              "(1, 128, 65)"
            ]
          },
          "metadata": {
            "tags": []
          },
          "execution_count": 8
        }
      ]
    },
    {
      "cell_type": "code",
      "metadata": {
        "id": "bfDLqWCf4tHc"
      },
      "source": [
        "X = df['melspectogram'].to_numpy()\n",
        "y = df['chords'].to_numpy()"
      ],
      "execution_count": 9,
      "outputs": []
    },
    {
      "cell_type": "code",
      "metadata": {
        "id": "KCZYww2RBE70"
      },
      "source": [
        "X = np.array([x for x in X], dtype='float32')"
      ],
      "execution_count": 10,
      "outputs": []
    },
    {
      "cell_type": "code",
      "metadata": {
        "id": "JPXWtgvG5Fyv"
      },
      "source": [
        "X_train, X_val, y_train, y_val = train_test_split(X, y, test_size = 0.05, random_state=42, stratify=y)"
      ],
      "execution_count": 11,
      "outputs": []
    },
    {
      "cell_type": "code",
      "metadata": {
        "colab": {
          "base_uri": "https://localhost:8080/"
        },
        "id": "PzDRn10S5HVI",
        "outputId": "411faa9d-1c56-49d3-fbe9-d32740b48ceb"
      },
      "source": [
        "X_train.shape, X_val.shape"
      ],
      "execution_count": 12,
      "outputs": [
        {
          "output_type": "execute_result",
          "data": {
            "text/plain": [
              "((1669, 1, 128, 65), (88, 1, 128, 65))"
            ]
          },
          "metadata": {
            "tags": []
          },
          "execution_count": 12
        }
      ]
    },
    {
      "cell_type": "code",
      "metadata": {
        "id": "jc-2OaQx55IO"
      },
      "source": [
        "X_train_tensor = torch.from_numpy(X_train).type(torch.FloatTensor)\n",
        "y_train_tensor = torch.from_numpy(y_train).type(torch.LongTensor)\n",
        "\n",
        "X_val_tensor = torch.from_numpy(X_val).type(torch.FloatTensor)\n",
        "y_val_tensor = torch.from_numpy(y_val).type(torch.LongTensor)"
      ],
      "execution_count": 13,
      "outputs": []
    },
    {
      "cell_type": "code",
      "metadata": {
        "id": "4qM9Aqm76Ip9"
      },
      "source": [
        "train = torch.utils.data.TensorDataset(X_train_tensor, y_train_tensor)\n",
        "val = torch.utils.data.TensorDataset(X_val_tensor, y_val_tensor)"
      ],
      "execution_count": 14,
      "outputs": []
    },
    {
      "cell_type": "code",
      "metadata": {
        "colab": {
          "base_uri": "https://localhost:8080/"
        },
        "id": "JSNvak7l-Puz",
        "outputId": "b2739279-c3d3-4ba7-e08a-3cc00fe51359"
      },
      "source": [
        "train[3][0].shape"
      ],
      "execution_count": 15,
      "outputs": [
        {
          "output_type": "execute_result",
          "data": {
            "text/plain": [
              "torch.Size([1, 128, 65])"
            ]
          },
          "metadata": {
            "tags": []
          },
          "execution_count": 15
        }
      ]
    },
    {
      "cell_type": "code",
      "metadata": {
        "id": "v3Gf2wSDEPix"
      },
      "source": [
        "train_loader = torch.utils.data.DataLoader(train, batch_size = 32, shuffle = False)\n",
        "val_loader = torch.utils.data.DataLoader(val, batch_size = 32, shuffle = False)"
      ],
      "execution_count": 16,
      "outputs": []
    },
    {
      "cell_type": "code",
      "metadata": {
        "colab": {
          "base_uri": "https://localhost:8080/"
        },
        "id": "53tkLSUW_hj4",
        "outputId": "541c8ce6-470a-427d-b305-b48b2c50fd1c"
      },
      "source": [
        "device = torch.device('cuda:0' if torch.cuda.is_available() else \"cpu\")\n",
        "device"
      ],
      "execution_count": 17,
      "outputs": [
        {
          "output_type": "execute_result",
          "data": {
            "text/plain": [
              "device(type='cuda', index=0)"
            ]
          },
          "metadata": {
            "tags": []
          },
          "execution_count": 17
        }
      ]
    },
    {
      "cell_type": "code",
      "metadata": {
        "id": "VdhGw-iLD4n3"
      },
      "source": [
        "class Net(nn.Module):\n",
        "    def __init__(self):\n",
        "        super().__init__()\n",
        "        self.c1 = nn.Conv2d(1, 32, (5,5), 1)\n",
        "        self.c2 = nn.Conv2d(32, 32, (5,5), 1)\n",
        "        self.c3 = nn.Conv2d(32, 64, (3,3), 1)\n",
        "        self.c4 = nn.Conv2d(64, 64, (3,3), 1)\n",
        "        self.fc1 = nn.Linear(21504, 256)\n",
        "        self.fc2 = nn.Linear(256, 10)\n",
        "        self.relu = nn.ReLU()\n",
        "        self.max_pool1 = nn.MaxPool2d((2,2))\n",
        "        self.max_pool2 = nn.MaxPool2d((2,2), (2,2))\n",
        "        self.dropout1 = nn.Dropout(0.25)\n",
        "        self.dropout2 = nn.Dropout(0.5)\n",
        "        \n",
        "    def forward(self, x):\n",
        "        x = self.relu(self.c1(x))\n",
        "        x = self.relu(self.c2(x))\n",
        "        x = self.dropout1(self.max_pool1(x))\n",
        "        x = self.relu(self.c3(x))\n",
        "        x = self.relu(self.c4(x))\n",
        "        x = self.dropout1(self.max_pool2(x))\n",
        "        x = self.dropout2(self.relu(self.fc1(x.view(x.size(0), -1))))\n",
        "        x = self.fc2(x)\n",
        "        \n",
        "        return x"
      ],
      "execution_count": 18,
      "outputs": []
    },
    {
      "cell_type": "code",
      "metadata": {
        "id": "8VjW0xgmEDCX"
      },
      "source": [
        "model = Net()\n",
        "model = model.to(device)\n",
        "optimizer = torch.optim.Adam(model.parameters(), lr=0.001)\n",
        "criterion = nn.CrossEntropyLoss()"
      ],
      "execution_count": 26,
      "outputs": []
    },
    {
      "cell_type": "code",
      "metadata": {
        "colab": {
          "base_uri": "https://localhost:8080/"
        },
        "id": "a5Ciih_XELYK",
        "outputId": "f26a98ef-40eb-44b3-8702-b7f57b26e6c6"
      },
      "source": [
        "EPOCHS = 20\n",
        "\n",
        "for epoch in range(EPOCHS):\n",
        "    running_loss = 0\n",
        "    \n",
        "    for i, (img, labels) in enumerate(train_loader):\n",
        "        img = img.view(-1,1,128,65)\n",
        "        img = img.to(device)\n",
        "        labels = labels.to(device)\n",
        "        \n",
        "        optimizer.zero_grad()\n",
        "        output = model(img)\n",
        "        loss = criterion(output, labels)\n",
        "        loss.backward()\n",
        "        optimizer.step()\n",
        "\n",
        "        running_loss += loss.item()\n",
        "\n",
        "    print(f\"Epoch:{epoch+1}, loss:{running_loss/len(train_loader)}\")\n",
        "\n",
        "    model.eval()\n",
        "    with torch.no_grad():\n",
        "        val_acc = 0\n",
        "        train_acc = 0\n",
        "\n",
        "        for k, (train_img, train_labels) in enumerate(train_loader):\n",
        "            train_img = train_img.to(device)\n",
        "            train_labels = train_labels.to(device)\n",
        "\n",
        "            train_out = model(train_img)\n",
        "            train_out = torch.argmax(train_out, axis=1)\n",
        "\n",
        "            train_acc += torch.sum(train_out == train_labels)/len(train_labels)\n",
        "\n",
        "        for j, (val_img, val_labels) in enumerate(val_loader):\n",
        "            val_img = val_img.to(device)\n",
        "            val_labels = val_labels.to(device)\n",
        "\n",
        "            val_out = model(val_img)\n",
        "            val_out = torch.argmax(val_out, axis=1)\n",
        "\n",
        "            val_acc += torch.sum(val_out == val_labels)/len(val_labels)\n",
        "\n",
        "        print(f\"Train accuracy is {train_acc/(k+1)}\")    \n",
        "        print(f\"Validation accuracy is {val_acc/(j+1)}\")\n",
        "        print()\n",
        "        print(\"-\"*30)\n",
        "        print()\n",
        "\n",
        "    model.train()"
      ],
      "execution_count": 27,
      "outputs": [
        {
          "output_type": "stream",
          "text": [
            "Epoch:1, loss:1.3748360229831822\n",
            "Train accuracy is 0.9675707817077637\n",
            "Validation accuracy is 0.9861111640930176\n",
            "\n",
            "------------------------------\n",
            "\n",
            "Epoch:2, loss:0.1394445293501705\n",
            "Train accuracy is 0.989386796951294\n",
            "Validation accuracy is 0.9895833730697632\n",
            "\n",
            "------------------------------\n",
            "\n",
            "Epoch:3, loss:0.07737222004611537\n",
            "Train accuracy is 0.990566074848175\n",
            "Validation accuracy is 1.0\n",
            "\n",
            "------------------------------\n",
            "\n",
            "Epoch:4, loss:0.05419028243972516\n",
            "Train accuracy is 0.9935141801834106\n",
            "Validation accuracy is 1.0\n",
            "\n",
            "------------------------------\n",
            "\n",
            "Epoch:5, loss:0.04854161527842769\n",
            "Train accuracy is 0.9876179099082947\n",
            "Validation accuracy is 1.0\n",
            "\n",
            "------------------------------\n",
            "\n",
            "Epoch:6, loss:0.04415733326965532\n",
            "Train accuracy is 0.9970518946647644\n",
            "Validation accuracy is 1.0\n",
            "\n",
            "------------------------------\n",
            "\n",
            "Epoch:7, loss:0.03418118646231102\n",
            "Train accuracy is 0.9952830076217651\n",
            "Validation accuracy is 1.0\n",
            "\n",
            "------------------------------\n",
            "\n",
            "Epoch:8, loss:0.052676137729971706\n",
            "Train accuracy is 0.9935141801834106\n",
            "Validation accuracy is 0.9895833730697632\n",
            "\n",
            "------------------------------\n",
            "\n",
            "Epoch:9, loss:0.051558823596421444\n",
            "Train accuracy is 0.9941037893295288\n",
            "Validation accuracy is 0.9895833730697632\n",
            "\n",
            "------------------------------\n",
            "\n",
            "Epoch:10, loss:0.03459631446023779\n",
            "Train accuracy is 0.9958726763725281\n",
            "Validation accuracy is 1.0\n",
            "\n",
            "------------------------------\n",
            "\n",
            "Epoch:11, loss:0.03400075674138827\n",
            "Train accuracy is 0.9982311725616455\n",
            "Validation accuracy is 0.9895833730697632\n",
            "\n",
            "------------------------------\n",
            "\n",
            "Epoch:12, loss:0.03197579029348969\n",
            "Train accuracy is 0.9923349022865295\n",
            "Validation accuracy is 1.0\n",
            "\n",
            "------------------------------\n",
            "\n",
            "Epoch:13, loss:0.034544596329674666\n",
            "Train accuracy is 0.9982311725616455\n",
            "Validation accuracy is 0.9756945371627808\n",
            "\n",
            "------------------------------\n",
            "\n",
            "Epoch:14, loss:0.029461913805322044\n",
            "Train accuracy is 0.9964622855186462\n",
            "Validation accuracy is 1.0\n",
            "\n",
            "------------------------------\n",
            "\n",
            "Epoch:15, loss:0.02418140899411604\n",
            "Train accuracy is 0.9958726763725281\n",
            "Validation accuracy is 1.0\n",
            "\n",
            "------------------------------\n",
            "\n",
            "Epoch:16, loss:0.022471488707336805\n",
            "Train accuracy is 0.9982311725616455\n",
            "Validation accuracy is 1.0\n",
            "\n",
            "------------------------------\n",
            "\n",
            "Epoch:17, loss:0.025934075354036464\n",
            "Train accuracy is 0.994693398475647\n",
            "Validation accuracy is 1.0\n",
            "\n",
            "------------------------------\n",
            "\n",
            "Epoch:18, loss:0.0748273282315409\n",
            "Train accuracy is 0.9941037893295288\n",
            "Validation accuracy is 0.9895833730697632\n",
            "\n",
            "------------------------------\n",
            "\n",
            "Epoch:19, loss:0.042184538945977415\n",
            "Train accuracy is 0.9882075786590576\n",
            "Validation accuracy is 0.9861111640930176\n",
            "\n",
            "------------------------------\n",
            "\n",
            "Epoch:20, loss:0.027275717419506004\n",
            "Train accuracy is 0.9982311725616455\n",
            "Validation accuracy is 1.0\n",
            "\n",
            "------------------------------\n",
            "\n"
          ],
          "name": "stdout"
        }
      ]
    },
    {
      "cell_type": "code",
      "metadata": {
        "id": "JY_GO9ntq8k7"
      },
      "source": [
        "torch.save(model.state_dict(),'./model/model_20ep.pt')"
      ],
      "execution_count": 28,
      "outputs": []
    }
  ]
}